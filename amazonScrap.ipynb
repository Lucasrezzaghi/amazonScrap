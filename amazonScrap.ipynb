{
 "cells": [
  {
   "cell_type": "code",
   "execution_count": 23,
   "metadata": {},
   "outputs": [],
   "source": [
    "from bs4 import BeautifulSoup as bs\n",
    "import requests\n",
    "import pandas as pd"
   ]
  },
  {
   "cell_type": "code",
   "execution_count": 24,
   "metadata": {},
   "outputs": [],
   "source": [
    "link = 'https://www.amazon.com.br/mundo-assombrado-pelos-dem%C3%B4nios/product-reviews/853590834X/ref=cm_cr_dp_d_show_all_btm?ie=UTF8&reviewerType=all_reviews'"
   ]
  },
  {
   "cell_type": "code",
   "execution_count": 25,
   "metadata": {},
   "outputs": [],
   "source": [
    "page = requests.get(link)"
   ]
  },
  {
   "cell_type": "code",
   "execution_count": 26,
   "metadata": {},
   "outputs": [],
   "source": [
    "soup = bs(page.content,'html.parser')"
   ]
  },
  {
   "cell_type": "code",
   "execution_count": 27,
   "metadata": {},
   "outputs": [],
   "source": [
    "names = soup.find_all('span' ,class_='a-profile-name')"
   ]
  },
  {
   "cell_type": "code",
   "execution_count": 28,
   "metadata": {},
   "outputs": [
    {
     "data": {
      "text/plain": [
       "[<span class=\"a-profile-name\">Rafa</span>,\n",
       " <span class=\"a-profile-name\">Paulo Mendes</span>,\n",
       " <span class=\"a-profile-name\">Rafa</span>,\n",
       " <span class=\"a-profile-name\">Isis</span>,\n",
       " <span class=\"a-profile-name\">Abner</span>,\n",
       " <span class=\"a-profile-name\">Pedro Felisberto</span>,\n",
       " <span class=\"a-profile-name\">Filipe</span>,\n",
       " <span class=\"a-profile-name\">Paulo Mendes</span>,\n",
       " <span class=\"a-profile-name\">Fabiano Andrade</span>,\n",
       " <span class=\"a-profile-name\">Wagner Alfonso</span>,\n",
       " <span class=\"a-profile-name\">Marcos Gama</span>,\n",
       " <span class=\"a-profile-name\">Diego Schlosser</span>]"
      ]
     },
     "execution_count": 28,
     "metadata": {},
     "output_type": "execute_result"
    }
   ],
   "source": [
    "names"
   ]
  },
  {
   "cell_type": "code",
   "execution_count": 29,
   "metadata": {},
   "outputs": [
    {
     "data": {
      "text/plain": [
       "['Rafa',\n",
       " 'Paulo Mendes',\n",
       " 'Rafa',\n",
       " 'Isis',\n",
       " 'Abner',\n",
       " 'Pedro Felisberto',\n",
       " 'Filipe',\n",
       " 'Paulo Mendes',\n",
       " 'Fabiano Andrade',\n",
       " 'Wagner Alfonso',\n",
       " 'Marcos Gama',\n",
       " 'Diego Schlosser']"
      ]
     },
     "execution_count": 29,
     "metadata": {},
     "output_type": "execute_result"
    }
   ],
   "source": [
    "cust_name = []\n",
    "for i in range(0,len(names)):\n",
    "    cust_name.append(names[i].get_text())\n",
    "cust_name"
   ]
  },
  {
   "cell_type": "code",
   "execution_count": 30,
   "metadata": {},
   "outputs": [
    {
     "data": {
      "text/plain": [
       "[<i class=\"a-icon a-icon-star a-star-5 review-rating\" data-hook=\"review-star-rating-view-point\"><span class=\"a-icon-alt\">5,0 de 5 estrelas</span></i>,\n",
       " <i class=\"a-icon a-icon-star a-star-1 review-rating\" data-hook=\"review-star-rating-view-point\"><span class=\"a-icon-alt\">1,0 de 5 estrelas</span></i>,\n",
       " <i class=\"a-icon a-icon-star a-star-5 review-rating\" data-hook=\"review-star-rating\"><span class=\"a-icon-alt\">5,0 de 5 estrelas</span></i>,\n",
       " <i class=\"a-icon a-icon-star a-star-5 review-rating\" data-hook=\"review-star-rating\"><span class=\"a-icon-alt\">5,0 de 5 estrelas</span></i>,\n",
       " <i class=\"a-icon a-icon-star a-star-4 review-rating\" data-hook=\"review-star-rating\"><span class=\"a-icon-alt\">4,0 de 5 estrelas</span></i>,\n",
       " <i class=\"a-icon a-icon-star a-star-5 review-rating\" data-hook=\"review-star-rating\"><span class=\"a-icon-alt\">5,0 de 5 estrelas</span></i>,\n",
       " <i class=\"a-icon a-icon-star a-star-5 review-rating\" data-hook=\"review-star-rating\"><span class=\"a-icon-alt\">5,0 de 5 estrelas</span></i>,\n",
       " <i class=\"a-icon a-icon-star a-star-1 review-rating\" data-hook=\"review-star-rating\"><span class=\"a-icon-alt\">1,0 de 5 estrelas</span></i>,\n",
       " <i class=\"a-icon a-icon-star a-star-3 review-rating\" data-hook=\"review-star-rating\"><span class=\"a-icon-alt\">3,0 de 5 estrelas</span></i>,\n",
       " <i class=\"a-icon a-icon-star a-star-5 review-rating\" data-hook=\"review-star-rating\"><span class=\"a-icon-alt\">5,0 de 5 estrelas</span></i>,\n",
       " <i class=\"a-icon a-icon-star a-star-5 review-rating\" data-hook=\"review-star-rating\"><span class=\"a-icon-alt\">5,0 de 5 estrelas</span></i>,\n",
       " <i class=\"a-icon a-icon-star a-star-5 review-rating\" data-hook=\"review-star-rating\"><span class=\"a-icon-alt\">5,0 de 5 estrelas</span></i>]"
      ]
     },
     "execution_count": 30,
     "metadata": {},
     "output_type": "execute_result"
    }
   ],
   "source": [
    "avaliacao = soup.find_all('i',class_='review-rating')\n",
    "avaliacao"
   ]
  },
  {
   "cell_type": "code",
   "execution_count": 31,
   "metadata": {},
   "outputs": [
    {
     "data": {
      "text/plain": [
       "['5,0 de 5 estrelas',\n",
       " '1,0 de 5 estrelas',\n",
       " '5,0 de 5 estrelas',\n",
       " '5,0 de 5 estrelas',\n",
       " '4,0 de 5 estrelas',\n",
       " '5,0 de 5 estrelas',\n",
       " '5,0 de 5 estrelas',\n",
       " '1,0 de 5 estrelas',\n",
       " '3,0 de 5 estrelas',\n",
       " '5,0 de 5 estrelas',\n",
       " '5,0 de 5 estrelas',\n",
       " '5,0 de 5 estrelas']"
      ]
     },
     "execution_count": 31,
     "metadata": {},
     "output_type": "execute_result"
    }
   ],
   "source": [
    "avals = []\n",
    "for i in range(0,len(avaliacao)):\n",
    "    avals.append(avaliacao[i].get_text())\n",
    "avals"
   ]
  },
  {
   "cell_type": "code",
   "execution_count": 32,
   "metadata": {},
   "outputs": [],
   "source": [
    "df = pd.DataFrame()\n"
   ]
  },
  {
   "cell_type": "code",
   "execution_count": 33,
   "metadata": {},
   "outputs": [],
   "source": [
    "df['Clientes'] = cust_name\n",
    "df['Estrelas'] = avals\n"
   ]
  },
  {
   "cell_type": "code",
   "execution_count": 34,
   "metadata": {},
   "outputs": [
    {
     "data": {
      "text/html": [
       "<div>\n",
       "<style scoped>\n",
       "    .dataframe tbody tr th:only-of-type {\n",
       "        vertical-align: middle;\n",
       "    }\n",
       "\n",
       "    .dataframe tbody tr th {\n",
       "        vertical-align: top;\n",
       "    }\n",
       "\n",
       "    .dataframe thead th {\n",
       "        text-align: right;\n",
       "    }\n",
       "</style>\n",
       "<table border=\"1\" class=\"dataframe\">\n",
       "  <thead>\n",
       "    <tr style=\"text-align: right;\">\n",
       "      <th></th>\n",
       "      <th>Clientes</th>\n",
       "      <th>Estrelas</th>\n",
       "    </tr>\n",
       "  </thead>\n",
       "  <tbody>\n",
       "    <tr>\n",
       "      <th>0</th>\n",
       "      <td>Rafa</td>\n",
       "      <td>5,0 de 5 estrelas</td>\n",
       "    </tr>\n",
       "    <tr>\n",
       "      <th>1</th>\n",
       "      <td>Paulo Mendes</td>\n",
       "      <td>1,0 de 5 estrelas</td>\n",
       "    </tr>\n",
       "    <tr>\n",
       "      <th>2</th>\n",
       "      <td>Rafa</td>\n",
       "      <td>5,0 de 5 estrelas</td>\n",
       "    </tr>\n",
       "    <tr>\n",
       "      <th>3</th>\n",
       "      <td>Isis</td>\n",
       "      <td>5,0 de 5 estrelas</td>\n",
       "    </tr>\n",
       "    <tr>\n",
       "      <th>4</th>\n",
       "      <td>Abner</td>\n",
       "      <td>4,0 de 5 estrelas</td>\n",
       "    </tr>\n",
       "    <tr>\n",
       "      <th>5</th>\n",
       "      <td>Pedro Felisberto</td>\n",
       "      <td>5,0 de 5 estrelas</td>\n",
       "    </tr>\n",
       "    <tr>\n",
       "      <th>6</th>\n",
       "      <td>Filipe</td>\n",
       "      <td>5,0 de 5 estrelas</td>\n",
       "    </tr>\n",
       "    <tr>\n",
       "      <th>7</th>\n",
       "      <td>Paulo Mendes</td>\n",
       "      <td>1,0 de 5 estrelas</td>\n",
       "    </tr>\n",
       "    <tr>\n",
       "      <th>8</th>\n",
       "      <td>Fabiano Andrade</td>\n",
       "      <td>3,0 de 5 estrelas</td>\n",
       "    </tr>\n",
       "    <tr>\n",
       "      <th>9</th>\n",
       "      <td>Wagner Alfonso</td>\n",
       "      <td>5,0 de 5 estrelas</td>\n",
       "    </tr>\n",
       "    <tr>\n",
       "      <th>10</th>\n",
       "      <td>Marcos Gama</td>\n",
       "      <td>5,0 de 5 estrelas</td>\n",
       "    </tr>\n",
       "    <tr>\n",
       "      <th>11</th>\n",
       "      <td>Diego Schlosser</td>\n",
       "      <td>5,0 de 5 estrelas</td>\n",
       "    </tr>\n",
       "  </tbody>\n",
       "</table>\n",
       "</div>"
      ],
      "text/plain": [
       "            Clientes           Estrelas\n",
       "0               Rafa  5,0 de 5 estrelas\n",
       "1       Paulo Mendes  1,0 de 5 estrelas\n",
       "2               Rafa  5,0 de 5 estrelas\n",
       "3               Isis  5,0 de 5 estrelas\n",
       "4              Abner  4,0 de 5 estrelas\n",
       "5   Pedro Felisberto  5,0 de 5 estrelas\n",
       "6             Filipe  5,0 de 5 estrelas\n",
       "7       Paulo Mendes  1,0 de 5 estrelas\n",
       "8    Fabiano Andrade  3,0 de 5 estrelas\n",
       "9     Wagner Alfonso  5,0 de 5 estrelas\n",
       "10       Marcos Gama  5,0 de 5 estrelas\n",
       "11   Diego Schlosser  5,0 de 5 estrelas"
      ]
     },
     "execution_count": 34,
     "metadata": {},
     "output_type": "execute_result"
    }
   ],
   "source": [
    "df"
   ]
  },
  {
   "cell_type": "code",
   "execution_count": 35,
   "metadata": {},
   "outputs": [],
   "source": [
    "df.to_csv(r'C:\\Users\\FINALMENTE\\Desktop\\reviews.csv',index=True)"
   ]
  }
 ],
 "metadata": {
  "kernelspec": {
   "display_name": "Python 3",
   "language": "python",
   "name": "python3"
  },
  "language_info": {
   "codemirror_mode": {
    "name": "ipython",
    "version": 3
   },
   "file_extension": ".py",
   "mimetype": "text/x-python",
   "name": "python",
   "nbconvert_exporter": "python",
   "pygments_lexer": "ipython3",
   "version": "3.8.3"
  }
 },
 "nbformat": 4,
 "nbformat_minor": 4
}
